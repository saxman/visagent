{
 "cells": [
  {
   "cell_type": "code",
   "execution_count": null,
   "metadata": {},
   "outputs": [],
   "source": [
    "from visagent.agent_based import SEIRModel, SEIRTorchModel\n",
    "import time"
   ]
  },
  {
   "cell_type": "code",
   "execution_count": null,
   "metadata": {},
   "outputs": [],
   "source": [
    "population = 10000000  # 10 million\n",
    "beta = 0.3  # Transmission rate\n",
    "sigma = 1 / 5.2  # Incubation period (average 5.2 days)\n",
    "gamma = 1 / 7  # Recovery rate (average 7 days infectious period)\n",
    "initial_conditions = (population * 0.99, population * 0.01, 0, 0)  # Initial (S, E, I, R)\n",
    "days = 160\n",
    "space_size = 100\n",
    "infection_radius = 1"
   ]
  },
  {
   "cell_type": "code",
   "execution_count": null,
   "metadata": {},
   "outputs": [],
   "source": [
    "start = time.perf_counter()\n",
    "model = SEIRModel(population, beta, sigma, gamma, initial_conditions, space_size, infection_radius)\n",
    "results = model.run_simulation(days)\n",
    "end = time.perf_counter()\n",
    "\n",
    "print(f\"standard model: {end - start:.6f} seconds\")"
   ]
  },
  {
   "cell_type": "code",
   "execution_count": null,
   "metadata": {},
   "outputs": [],
   "source": [
    "model.plot(results)"
   ]
  },
  {
   "cell_type": "code",
   "execution_count": null,
   "metadata": {},
   "outputs": [],
   "source": [
    "start = time.perf_counter()\n",
    "model = SEIRTorchModel(population, beta, sigma, gamma, initial_conditions, space_size, infection_radius)\n",
    "end = time.perf_counter()\n",
    "\n",
    "print(f\"torch model: {end - start:.6f} seconds\")"
   ]
  },
  {
   "cell_type": "code",
   "execution_count": null,
   "metadata": {},
   "outputs": [],
   "source": [
    "model.plot(results)"
   ]
  }
 ],
 "metadata": {
  "kernelspec": {
   "display_name": ".venv",
   "language": "python",
   "name": "python3"
  },
  "language_info": {
   "codemirror_mode": {
    "name": "ipython",
    "version": 3
   },
   "file_extension": ".py",
   "mimetype": "text/x-python",
   "name": "python",
   "nbconvert_exporter": "python",
   "pygments_lexer": "ipython3",
   "version": "3.13.2"
  }
 },
 "nbformat": 4,
 "nbformat_minor": 2
}
